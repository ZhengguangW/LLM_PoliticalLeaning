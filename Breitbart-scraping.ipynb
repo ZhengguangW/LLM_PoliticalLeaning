{
 "cells": [
  {
   "cell_type": "code",
   "execution_count": 30,
   "metadata": {},
   "outputs": [],
   "source": [
    "import requests\n",
    "from bs4 import BeautifulSoup\n",
    "headline=[]\n",
    "headline_link=[]\n",
    "def scrape_page(url):\n",
    "    global headline\n",
    "    global headline_link\n",
    "    response = requests.get(url)\n",
    "    soup = BeautifulSoup(response.content, 'html.parser')\n",
    "    a_elements = soup.select('div.tC > h2 > a')\n",
    "    print(len(a_elements))\n",
    "    for a in a_elements:\n",
    "        headline.append(a.text)\n",
    "        headline_link.append(a[\"href\"])"
   ]
  },
  {
   "cell_type": "code",
   "execution_count": 31,
   "metadata": {},
   "outputs": [
    {
     "name": "stdout",
     "output_type": "stream",
     "text": [
      "40\n",
      "40\n",
      "40\n",
      "40\n",
      "40\n",
      "40\n"
     ]
    }
   ],
   "source": [
    "scrape_page(\"https://www.breitbart.com/politics/\")\n",
    "for i in range (2,7):\n",
    "    scrape_page(f\"https://www.breitbart.com/politics/page/{i}/\")"
   ]
  },
  {
   "cell_type": "code",
   "execution_count": 38,
   "metadata": {},
   "outputs": [
    {
     "name": "stdout",
     "output_type": "stream",
     "text": [
      "240\n",
      "240\n"
     ]
    }
   ],
   "source": [
    "import numpy as np\n",
    "print(len(headline))\n",
    "print(len(np.unique(headline)))"
   ]
  },
  {
   "cell_type": "code",
   "execution_count": 33,
   "metadata": {},
   "outputs": [
    {
     "name": "stdout",
     "output_type": "stream",
     "text": [
      "Repeated items: []\n"
     ]
    }
   ],
   "source": [
    "from collections import Counter\n",
    "element_counts = Counter(headline)\n",
    "\n",
    "# Find the repeated items (elements that occurred more than once)\n",
    "repeated_items = [item for item, count in element_counts.items() if count > 1]\n",
    "\n",
    "print(\"Repeated items:\", repeated_items)"
   ]
  },
  {
   "cell_type": "code",
   "execution_count": 43,
   "metadata": {},
   "outputs": [
    {
     "data": {
      "text/html": [
       "<div>\n",
       "<style scoped>\n",
       "    .dataframe tbody tr th:only-of-type {\n",
       "        vertical-align: middle;\n",
       "    }\n",
       "\n",
       "    .dataframe tbody tr th {\n",
       "        vertical-align: top;\n",
       "    }\n",
       "\n",
       "    .dataframe thead th {\n",
       "        text-align: right;\n",
       "    }\n",
       "</style>\n",
       "<table border=\"1\" class=\"dataframe\">\n",
       "  <thead>\n",
       "    <tr style=\"text-align: right;\">\n",
       "      <th></th>\n",
       "      <th>headline</th>\n",
       "      <th>headline-link</th>\n",
       "    </tr>\n",
       "  </thead>\n",
       "  <tbody>\n",
       "    <tr>\n",
       "      <th>0</th>\n",
       "      <td>Raskin: Several Republicans ‘Embarrassed and H...</td>\n",
       "      <td>/clips/2023/09/28/raskin-several-republicans-e...</td>\n",
       "    </tr>\n",
       "    <tr>\n",
       "      <th>1</th>\n",
       "      <td>Gingrich: ‘Trump Will Be Nominee,’ GOP Should ...</td>\n",
       "      <td>/clips/2023/09/28/gingrich-trump-will-be-nomin...</td>\n",
       "    </tr>\n",
       "    <tr>\n",
       "      <th>2</th>\n",
       "      <td>James Comer Subpoenas Hunter, James Biden 315 ...</td>\n",
       "      <td>/politics/2023/09/28/james-comer-subpoenas-hun...</td>\n",
       "    </tr>\n",
       "    <tr>\n",
       "      <th>3</th>\n",
       "      <td>Second GOP Debate Without Trump Sees Viewershi...</td>\n",
       "      <td>/politics/2023/09/28/second-gop-debate-without...</td>\n",
       "    </tr>\n",
       "    <tr>\n",
       "      <th>4</th>\n",
       "      <td>Carney on ‘Kudlow’: Trump Showed Last Night Wh...</td>\n",
       "      <td>/economy/2023/09/28/carney-on-kudlow-trump-sho...</td>\n",
       "    </tr>\n",
       "    <tr>\n",
       "      <th>...</th>\n",
       "      <td>...</td>\n",
       "      <td>...</td>\n",
       "    </tr>\n",
       "    <tr>\n",
       "      <th>235</th>\n",
       "      <td>Justin Trudeau Warns of ‘Russian Disinformatio...</td>\n",
       "      <td>/europe/2023/09/26/justin-trudeau-warns-of-rus...</td>\n",
       "    </tr>\n",
       "    <tr>\n",
       "      <th>236</th>\n",
       "      <td>1,800 Migrants Pour into Texas Border Town in ...</td>\n",
       "      <td>/border/2023/09/26/1800-migrants-pour-into-tex...</td>\n",
       "    </tr>\n",
       "    <tr>\n",
       "      <th>237</th>\n",
       "      <td>Back from the Dead: Senate Democrats Urge FCC ...</td>\n",
       "      <td>/tech/2023/09/26/back-from-the-dead-senate-dem...</td>\n",
       "    </tr>\n",
       "    <tr>\n",
       "      <th>238</th>\n",
       "      <td>Left Lobbies to Bring Back Net Neutrality Afte...</td>\n",
       "      <td>/tech/2023/09/26/democrats-eye-net-neutrality-...</td>\n",
       "    </tr>\n",
       "    <tr>\n",
       "      <th>239</th>\n",
       "      <td>Secular Protesters Confront Religious Jews in ...</td>\n",
       "      <td>/middle-east/2023/09/26/secular-protesters-con...</td>\n",
       "    </tr>\n",
       "  </tbody>\n",
       "</table>\n",
       "<p>240 rows × 2 columns</p>\n",
       "</div>"
      ],
      "text/plain": [
       "                                              headline  \\\n",
       "0    Raskin: Several Republicans ‘Embarrassed and H...   \n",
       "1    Gingrich: ‘Trump Will Be Nominee,’ GOP Should ...   \n",
       "2    James Comer Subpoenas Hunter, James Biden 315 ...   \n",
       "3    Second GOP Debate Without Trump Sees Viewershi...   \n",
       "4    Carney on ‘Kudlow’: Trump Showed Last Night Wh...   \n",
       "..                                                 ...   \n",
       "235  Justin Trudeau Warns of ‘Russian Disinformatio...   \n",
       "236  1,800 Migrants Pour into Texas Border Town in ...   \n",
       "237  Back from the Dead: Senate Democrats Urge FCC ...   \n",
       "238  Left Lobbies to Bring Back Net Neutrality Afte...   \n",
       "239  Secular Protesters Confront Religious Jews in ...   \n",
       "\n",
       "                                         headline-link  \n",
       "0    /clips/2023/09/28/raskin-several-republicans-e...  \n",
       "1    /clips/2023/09/28/gingrich-trump-will-be-nomin...  \n",
       "2    /politics/2023/09/28/james-comer-subpoenas-hun...  \n",
       "3    /politics/2023/09/28/second-gop-debate-without...  \n",
       "4    /economy/2023/09/28/carney-on-kudlow-trump-sho...  \n",
       "..                                                 ...  \n",
       "235  /europe/2023/09/26/justin-trudeau-warns-of-rus...  \n",
       "236  /border/2023/09/26/1800-migrants-pour-into-tex...  \n",
       "237  /tech/2023/09/26/back-from-the-dead-senate-dem...  \n",
       "238  /tech/2023/09/26/democrats-eye-net-neutrality-...  \n",
       "239  /middle-east/2023/09/26/secular-protesters-con...  \n",
       "\n",
       "[240 rows x 2 columns]"
      ]
     },
     "execution_count": 43,
     "metadata": {},
     "output_type": "execute_result"
    }
   ],
   "source": [
    "import pandas as pd\n",
    "Breitbart=pd.DataFrame({\n",
    "    \"headline\": headline,\n",
    "    \"headline-link\":headline_link\n",
    "})\n",
    "Breitbart"
   ]
  },
  {
   "cell_type": "code",
   "execution_count": 44,
   "metadata": {},
   "outputs": [],
   "source": [
    "Breitbart.to_csv(\"Breitbart.csv\")"
   ]
  }
 ],
 "metadata": {
  "kernelspec": {
   "display_name": "base",
   "language": "python",
   "name": "python3"
  },
  "language_info": {
   "codemirror_mode": {
    "name": "ipython",
    "version": 3
   },
   "file_extension": ".py",
   "mimetype": "text/x-python",
   "name": "python",
   "nbconvert_exporter": "python",
   "pygments_lexer": "ipython3",
   "version": "3.9.13"
  },
  "orig_nbformat": 4
 },
 "nbformat": 4,
 "nbformat_minor": 2
}
